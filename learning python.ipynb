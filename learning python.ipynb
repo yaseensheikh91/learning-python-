{
 "cells": [
  {
   "cell_type": "code",
   "execution_count": 1,
   "metadata": {},
   "outputs": [
    {
     "name": "stdout",
     "output_type": "stream",
     "text": [
      "Twinkle, twinkle, little star, \n",
      "\t  How I wonder what you are!\n",
      "\t \t \t Up above the world so high, \n",
      "\t \t \t Like a diamond in the sky\n",
      "Twinkle, twinkle, little star, \n",
      "\t  How I wonder what you are!\n"
     ]
    }
   ],
   "source": [
    "print (\"Twinkle, twinkle, little star, \")\n",
    "print (\"\\t  How I wonder what you are!\")\n",
    "print (\"\\t \\t \\t Up above the world so high, \")\n",
    "print (\"\\t \\t \\t Like a diamond in the sky\")\n",
    "print (\"Twinkle, twinkle, little star, \")\n",
    "print (\"\\t  How I wonder what you are!\")\n",
    "    "
   ]
  },
  {
   "cell_type": "code",
   "execution_count": 2,
   "metadata": {},
   "outputs": [
    {
     "name": "stdout",
     "output_type": "stream",
     "text": [
      "Python Version\n",
      "3.7.4 (default, Aug  9 2019, 18:34:13) [MSC v.1915 64 bit (AMD64)]\n"
     ]
    }
   ],
   "source": [
    "import sys\n",
    "\n",
    "print (\"Python Version\")\n",
    "\n",
    "print(sys.version)\n"
   ]
  },
  {
   "cell_type": "code",
   "execution_count": 3,
   "metadata": {},
   "outputs": [
    {
     "name": "stdout",
     "output_type": "stream",
     "text": [
      "Current date and time : \n",
      "2019-11-07 00:30:47\n"
     ]
    }
   ],
   "source": [
    "import datetime\n",
    "now = datetime.datetime.now()\n",
    "print (\"Current date and time : \")\n",
    "print (now.strftime(\"%Y-%m-%d %H:%M:%S\"))"
   ]
  },
  {
   "cell_type": "code",
   "execution_count": 4,
   "metadata": {},
   "outputs": [
    {
     "name": "stdout",
     "output_type": "stream",
     "text": [
      "Enter the redius of circle \t34\n",
      "Area of the Circle is \t 3629.84\n"
     ]
    }
   ],
   "source": [
    "pi = 3.14\n",
    "r = float (input(\"Enter the redius of circle \\t\"))\n",
    "area=pi*r*r\n",
    "print(\"Area of the Circle is \\t\",area)\n"
   ]
  },
  {
   "cell_type": "code",
   "execution_count": 5,
   "metadata": {},
   "outputs": [
    {
     "name": "stdout",
     "output_type": "stream",
     "text": [
      "enter your name \t \tIqbal\n",
      "enter your father name \t \tYaseen\n",
      "\t \t \t   Yaseen\tIqbal\n"
     ]
    }
   ],
   "source": [
    "name = input (\"enter your name \\t \\t\")\n",
    "fname = input(\"enter your father name \\t \\t\")\n",
    "result = fname +\"\\t\"+ name\n",
    "print (\"\\t \\t \\t  \", result)"
   ]
  },
  {
   "cell_type": "code",
   "execution_count": 30,
   "metadata": {},
   "outputs": [
    {
     "name": "stdout",
     "output_type": "stream",
     "text": [
      "enter your name \t \tyaseen\n",
      "enter your father name \t \tiqbal\n",
      "\t \t \t   iqbal\tyaseen\n"
     ]
    }
   ],
   "source": [
    "a = int(input(\"Enter the 1st vlaue \\t \\t\"))\n",
    "b = int(input(\"Enter the 2st vlaue \\t \\t\"))\n",
    "print (\"\\t\\t\\t\\t\",a + b)"
   ]
  },
  {
   "cell_type": "code",
   "execution_count": 6,
   "metadata": {},
   "outputs": [
    {
     "name": "stdout",
     "output_type": "stream",
     "text": [
      "Student Name \t Yaseen\n",
      "Studen's Father Name \tIqbal\n",
      "Marks in Math \t43\n",
      "Marks in Urdu \t65\n",
      " Marks in English \t76\n",
      " Marks in Computer \t87\n",
      " Marks in Science \t78\n",
      "Total Marks \t 349\n",
      "Percentage \t 69.8\n",
      "Grade C\n"
     ]
    }
   ],
   "source": [
    "name = input(\"Student Name \\t \"); fname = input (\"Studen's Father Name \\t\");\n",
    "math = int(input(\"Marks in Math \\t\"));\n",
    "urdu = int(input(\"Marks in Urdu \\t\"));\n",
    "english = int(input(\" Marks in English \\t\"));\n",
    "computer = int(input(\" Marks in Computer \\t\"));\n",
    "science = int(input(\" Marks in Science \\t\"));\n",
    "\n",
    "to = math + urdu + english + computer +science\n",
    "\n",
    "print(\"Total Marks \\t\", to)\n",
    "\n",
    "per = to /500*100\n",
    "\n",
    "print (\"Percentage \\t\", per)\n",
    "\n",
    "grade = per\n",
    "\n",
    "if grade >= 80:\n",
    "    print(\"Grade A+\")\n",
    "          \n",
    "elif grade >= 70 and  grade <80:\n",
    "    print (\"Grade B\")\n",
    "elif grade >= 60 and  grade <70:\n",
    "    print (\"Grade C\")\n",
    "elif grade >= 0 and  grade <60:\n",
    "    print (\"Fail\")\n",
    "else :\n",
    "    print (\"please recheck your input\")"
   ]
  },
  {
   "cell_type": "code",
   "execution_count": null,
   "metadata": {},
   "outputs": [],
   "source": []
  }
 ],
 "metadata": {
  "kernelspec": {
   "display_name": "Python 3",
   "language": "python",
   "name": "python3"
  },
  "language_info": {
   "codemirror_mode": {
    "name": "ipython",
    "version": 3
   },
   "file_extension": ".py",
   "mimetype": "text/x-python",
   "name": "python",
   "nbconvert_exporter": "python",
   "pygments_lexer": "ipython3",
   "version": "3.7.4"
  }
 },
 "nbformat": 4,
 "nbformat_minor": 2
}
