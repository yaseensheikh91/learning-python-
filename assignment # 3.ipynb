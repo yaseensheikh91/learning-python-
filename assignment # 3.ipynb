{
 "cells": [
  {
   "cell_type": "code",
   "execution_count": 2,
   "metadata": {},
   "outputs": [
    {
     "name": "stdout",
     "output_type": "stream",
     "text": [
      "87\n",
      "87\n",
      "/\n",
      "1.0\n"
     ]
    }
   ],
   "source": [
    "a = float(input(\"\"))\n",
    "b = float (input(\"\"))\n",
    "opr = input(\"\")\n",
    "result = \"\"\n",
    "\n",
    "if opr ==\"+\":\n",
    "    print (a + b)\n",
    "elif opr == \"-\":\n",
    "    print (a-b)\n",
    "elif opr == \"/\":\n",
    "    print (a/b)\n",
    "elif opr == \"*\":\n",
    "    print (a*b)\n",
    "else:\n",
    "    print (\"Check Opreator Value\")\n"
   ]
  },
  {
   "cell_type": "code",
   "execution_count": 4,
   "metadata": {},
   "outputs": [
    {
     "name": "stdout",
     "output_type": "stream",
     "text": [
      "11 421 50 415 606 193 "
     ]
    }
   ],
   "source": [
    "a = [11, 421, 50, 415, 606, 193]\n",
    "\n",
    "for num in a: \n",
    "    if num >= 0: \n",
    "       print(num, end = \" \") \n",
    "\n",
    "\n",
    "\n"
   ]
  },
  {
   "cell_type": "code",
   "execution_count": 6,
   "metadata": {},
   "outputs": [
    {
     "name": "stdout",
     "output_type": "stream",
     "text": [
      "{'Roll': '0001', 'Name': 'Muhammad Yaseen', 'Father Name': 'Muhammad IQbal', 'Class': '10th'}\n"
     ]
    }
   ],
   "source": [
    "stu1= {\"Roll\": \"0001\", \"Name\" : \"Muhammad Yaseen\",\"Father Name\":\"Muhammad IQbal\", }\n",
    "\n",
    "stu1.update({\"Class\":\"10th\"})\n",
    "\n",
    "print (stu1)"
   ]
  },
  {
   "cell_type": "code",
   "execution_count": 18,
   "metadata": {},
   "outputs": [
    {
     "name": "stdout",
     "output_type": "stream",
     "text": [
      "Sum : 2450\n"
     ]
    }
   ],
   "source": [
    "def returnSum(produtcs_price): \n",
    "      \n",
    "    sum = 0\n",
    "    for i in produtcs_price: \n",
    "        sum = sum + produtcs_price[i] \n",
    "      \n",
    "    return sum\n",
    "  \n",
    "# Driver Function \n",
    "produtcs_price = {\"Ball\":50,\"Bat\":500,\"T-shart\" :700,\"Touser\":1200} \n",
    "print(\"Sum :\", returnSum(produtcs_price)) "
   ]
  },
  {
   "cell_type": "code",
   "execution_count": 2,
   "metadata": {},
   "outputs": [
    {
     "name": "stdout",
     "output_type": "stream",
     "text": [
      "[10, 20, 30, 40, 50]\n"
     ]
    }
   ],
   "source": [
    "def unique_list(list):\n",
    "    uniq_list = []\n",
    "    uniq_set = set()\n",
    "    for item in list:\n",
    "       if item not in uniq_set:\n",
    "            uniq_list.append(item)\n",
    "            uniq_set.add(item)\n",
    "    return uniq_list\n",
    " \n",
    "list = [10,20,30,10,10,30,40,50]\n",
    "print(unique_list(list))\n"
   ]
  },
  {
   "cell_type": "code",
   "execution_count": 8,
   "metadata": {},
   "outputs": [
    {
     "name": "stdout",
     "output_type": "stream",
     "text": [
      "Present,  value = 200\n",
      "Not present\n"
     ]
    }
   ],
   "source": [
    "def checkKey(dict, key): \n",
    "      \n",
    "    if key in dict.keys(): \n",
    "        print(\"Present, \", end =\" \") \n",
    "        print(\"value =\", dict[key]) \n",
    "    else: \n",
    "        print(\"Not present\") \n",
    "  \n",
    "# Driver Code \n",
    "dict = {'a': 100, 'b':200, 'c':300} \n",
    "  \n",
    "key = 'b'\n",
    "checkKey(dict, key) \n",
    "  \n",
    "key = 'w'\n",
    "checkKey(dict, key) "
   ]
  },
  {
   "cell_type": "code",
   "execution_count": null,
   "metadata": {},
   "outputs": [],
   "source": []
  },
  {
   "cell_type": "code",
   "execution_count": null,
   "metadata": {},
   "outputs": [],
   "source": []
  }
 ],
 "metadata": {
  "kernelspec": {
   "display_name": "Python 3",
   "language": "python",
   "name": "python3"
  },
  "language_info": {
   "codemirror_mode": {
    "name": "ipython",
    "version": 3
   },
   "file_extension": ".py",
   "mimetype": "text/x-python",
   "name": "python",
   "nbconvert_exporter": "python",
   "pygments_lexer": "ipython3",
   "version": "3.7.4"
  }
 },
 "nbformat": 4,
 "nbformat_minor": 2
}
