{
 "cells": [
  {
   "cell_type": "code",
   "execution_count": 1,
   "metadata": {},
   "outputs": [
    {
     "name": "stdout",
     "output_type": "stream",
     "text": [
      "\t \t Mark Sheet\n",
      "Student Name  \tyaseen\n",
      "Father's Name \tiqbal\n",
      "Math \t \t78\n",
      "Urdu \t \t98\n",
      "English \t89\n",
      "Science \t78\n",
      "Computer \t67\n",
      "Total Marks\t 410\n",
      "Percentage \t 82.0\n",
      "\t Grade A+\n"
     ]
    }
   ],
   "source": [
    "print (\"\\t \\t Mark Sheet\") \n",
    "\n",
    "name = input (\"Student Name  \\t\")\n",
    "fname = input (\"Father's Name \\t\")\n",
    "math = int(input(\"Math \\t \\t\"))\n",
    "urdu = int(input(\"Urdu \\t \\t\"))\n",
    "english = int(input(\"English \\t\"))\n",
    "science = int(input(\"Science \\t\"))\n",
    "computer =int(input(\"Computer \\t\"))\n",
    "total = math + urdu + english + science + computer\n",
    "print (\"Total Marks\\t\" , total)\n",
    "\n",
    "percentage = total /500*100\n",
    "print (\"Percentage \\t\", percentage)\n",
    "\n",
    "grade = percentage\n",
    "\n",
    "if grade >= 80 and grade <=100:\n",
    "    print(\"\\t Grade A+\")\n",
    "if grade >= 70 and grade <=80:\n",
    "    print(\"\\t Grade A\")\n",
    "if grade >= 60 and grade <=70:\n",
    "    print(\"\\t Grade B\")\n",
    "if grade >= 50 and grade <=60:\n",
    "    print(\"\\t Grade C\")\n",
    "elif grade >= 0 and grade <=50:\n",
    "    print(\"Fail\")\n",
    "    \n",
    "# else:\n",
    "#     print (\" Please Check Your Input Again\")"
   ]
  },
  {
   "cell_type": "code",
   "execution_count": 3,
   "metadata": {},
   "outputs": [
    {
     "name": "stdout",
     "output_type": "stream",
     "text": [
      "33\n",
      "33 Is Odd number\n"
     ]
    }
   ],
   "source": [
    "a = int(input(\"\"))\n",
    "if a %2 == 0: \n",
    "    print(a, \"Is Even Number\") \n",
    "else: \n",
    "    print(a, \"Is Odd number\")"
   ]
  },
  {
   "cell_type": "code",
   "execution_count": 4,
   "metadata": {},
   "outputs": [
    {
     "name": "stdout",
     "output_type": "stream",
     "text": [
      "378\n"
     ]
    }
   ],
   "source": [
    "a = [23,45,65,76,67,45,34,23,]\n",
    "\n",
    "total = sum(a)\n",
    "\n",
    "print (total)"
   ]
  },
  {
   "cell_type": "code",
   "execution_count": 5,
   "metadata": {},
   "outputs": [
    {
     "name": "stdout",
     "output_type": "stream",
     "text": [
      "5765\n"
     ]
    }
   ],
   "source": [
    "largenum = [34,65,67,99,787,565,456,5677,5765]\n",
    "\n",
    "print(max(largenum))"
   ]
  },
  {
   "cell_type": "code",
   "execution_count": 6,
   "metadata": {},
   "outputs": [
    {
     "name": "stdout",
     "output_type": "stream",
     "text": [
      "[23, 23, 54, 65, 78, 655, 45, 6, 7, 8, 96, 332, 33]\n"
     ]
    }
   ],
   "source": [
    "b = [a for a in (23,23,54,65,78,655,45,2,3,4,5,1,4,3,2,5,6,7,8,96,332,2,33,) if a > 5 == 5]\n",
    "\n",
    "print(b)"
   ]
  },
  {
   "cell_type": "code",
   "execution_count": null,
   "metadata": {},
   "outputs": [],
   "source": []
  }
 ],
 "metadata": {
  "kernelspec": {
   "display_name": "Python 3",
   "language": "python",
   "name": "python3"
  },
  "language_info": {
   "codemirror_mode": {
    "name": "ipython",
    "version": 3
   },
   "file_extension": ".py",
   "mimetype": "text/x-python",
   "name": "python",
   "nbconvert_exporter": "python",
   "pygments_lexer": "ipython3",
   "version": "3.7.4"
  }
 },
 "nbformat": 4,
 "nbformat_minor": 2
}
